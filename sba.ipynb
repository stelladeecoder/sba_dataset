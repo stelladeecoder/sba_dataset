{
 "metadata": {
  "language_info": {
   "codemirror_mode": {
    "name": "ipython",
    "version": 3
   },
   "file_extension": ".py",
   "mimetype": "text/x-python",
   "name": "python",
   "nbconvert_exporter": "python",
   "pygments_lexer": "ipython3",
   "version": "3.8.5-final"
  },
  "orig_nbformat": 2,
  "kernelspec": {
   "name": "Python 3.8.5 64-bit",
   "display_name": "Python 3.8.5 64-bit",
   "metadata": {
    "interpreter": {
     "hash": "082e9a3bcad0a290d0001e938aa60b99250c6c2ef33a923c00b70f9826caf4b7"
    }
   }
  }
 },
 "nbformat": 4,
 "nbformat_minor": 2,
 "cells": [
  {
   "cell_type": "code",
   "execution_count": 1,
   "metadata": {},
   "outputs": [],
   "source": [
    "import numpy as np # linear algebra\n",
    "import pandas as pd # data processing, CSV file I/O (e.g. pd.read_csv)"
   ]
  },
  {
   "cell_type": "code",
   "execution_count": 2,
   "metadata": {},
   "outputs": [],
   "source": [
    "sba = pd.read_csv('SBAcase.11.13.17.csv')"
   ]
  },
  {
   "cell_type": "code",
   "execution_count": 3,
   "metadata": {},
   "outputs": [
    {
     "output_type": "stream",
     "name": "stdout",
     "text": [
      "<class 'pandas.core.frame.DataFrame'>\nRangeIndex: 2102 entries, 0 to 2101\nData columns (total 35 columns):\n #   Column             Non-Null Count  Dtype  \n---  ------             --------------  -----  \n 0   Selected           2102 non-null   int64  \n 1   LoanNr_ChkDgt      2102 non-null   int64  \n 2   Name               2102 non-null   object \n 3   City               2102 non-null   object \n 4   State              2102 non-null   object \n 5   Zip                2102 non-null   int64  \n 6   Bank               2099 non-null   object \n 7   BankState          2099 non-null   object \n 8   NAICS              2102 non-null   int64  \n 9   ApprovalDate       2102 non-null   int64  \n 10  ApprovalFY         2102 non-null   int64  \n 11  Term               2102 non-null   int64  \n 12  NoEmp              2102 non-null   int64  \n 13  NewExist           2101 non-null   float64\n 14  CreateJob          2102 non-null   int64  \n 15  RetainedJob        2102 non-null   int64  \n 16  FranchiseCode      2102 non-null   int64  \n 17  UrbanRural         2102 non-null   int64  \n 18  RevLineCr          2100 non-null   object \n 19  LowDoc             2099 non-null   object \n 20  ChgOffDate         697 non-null    float64\n 21  DisbursementDate   2099 non-null   float64\n 22  DisbursementGross  2102 non-null   int64  \n 23  BalanceGross       2102 non-null   int64  \n 24  MIS_Status         2102 non-null   object \n 25  ChgOffPrinGr       2102 non-null   int64  \n 26  GrAppv             2102 non-null   int64  \n 27  SBA_Appv           2102 non-null   int64  \n 28  New                2102 non-null   int64  \n 29  RealEstate         2102 non-null   int64  \n 30  Portion            2102 non-null   float64\n 31  Recession          2102 non-null   int64  \n 32  daysterm           2102 non-null   int64  \n 33  xx                 2099 non-null   float64\n 34  Default            2102 non-null   int64  \ndtypes: float64(5), int64(22), object(8)\nmemory usage: 574.9+ KB\n"
     ]
    }
   ],
   "source": [
    "sba.info()"
   ]
  },
  {
   "cell_type": "code",
   "execution_count": 4,
   "metadata": {},
   "outputs": [
    {
     "output_type": "execute_result",
     "data": {
      "text/plain": [
       "   Selected  LoanNr_ChkDgt                           Name         City State  \\\n",
       "0         0     1004285007       SIMPLEX OFFICE SOLUTIONS      ANAHEIM    CA   \n",
       "1         1     1004535010              DREAM HOME REALTY     TORRANCE    CA   \n",
       "2         0     1005005006  Winset, Inc. dba Bankers Hill    SAN DIEGO    CA   \n",
       "3         1     1005535001               Shiva Management    SAN DIEGO    CA   \n",
       "4         1     1005996006     GOLD CROWN HOME LOANS, INC  LOS ANGELES    CA   \n",
       "\n",
       "     Zip                          Bank BankState   NAICS  ApprovalDate  ...  \\\n",
       "0  92801       CALIFORNIA BANK & TRUST        CA  532420         15074  ...   \n",
       "1  90505       CALIFORNIA BANK & TRUST        CA  531210         15130  ...   \n",
       "2  92103       CALIFORNIA BANK & TRUST        CA  531210         15188  ...   \n",
       "3  92108       CALIFORNIA BANK & TRUST        CA  531312         15719  ...   \n",
       "4  91345  SBA - EDF ENFORCEMENT ACTION        CO  531390         16840  ...   \n",
       "\n",
       "   ChgOffPrinGr  GrAppv  SBA_Appv  New  RealEstate  Portion  Recession  \\\n",
       "0             0   30000     15000    0           0      0.5          0   \n",
       "1             0   30000     15000    0           0      0.5          1   \n",
       "2             0   30000     15000    0           0      0.5          0   \n",
       "3             0   50000     25000    0           0      0.5          0   \n",
       "4             0  343000    343000    0           1      1.0          0   \n",
       "\n",
       "   daysterm       xx Default  \n",
       "0      1080  16175.0       0  \n",
       "1      1680  17658.0       0  \n",
       "2      1080  16298.0       0  \n",
       "3      1080  16816.0       0  \n",
       "4      7200  24103.0       0  \n",
       "\n",
       "[5 rows x 35 columns]"
      ],
      "text/html": "<div>\n<style scoped>\n    .dataframe tbody tr th:only-of-type {\n        vertical-align: middle;\n    }\n\n    .dataframe tbody tr th {\n        vertical-align: top;\n    }\n\n    .dataframe thead th {\n        text-align: right;\n    }\n</style>\n<table border=\"1\" class=\"dataframe\">\n  <thead>\n    <tr style=\"text-align: right;\">\n      <th></th>\n      <th>Selected</th>\n      <th>LoanNr_ChkDgt</th>\n      <th>Name</th>\n      <th>City</th>\n      <th>State</th>\n      <th>Zip</th>\n      <th>Bank</th>\n      <th>BankState</th>\n      <th>NAICS</th>\n      <th>ApprovalDate</th>\n      <th>...</th>\n      <th>ChgOffPrinGr</th>\n      <th>GrAppv</th>\n      <th>SBA_Appv</th>\n      <th>New</th>\n      <th>RealEstate</th>\n      <th>Portion</th>\n      <th>Recession</th>\n      <th>daysterm</th>\n      <th>xx</th>\n      <th>Default</th>\n    </tr>\n  </thead>\n  <tbody>\n    <tr>\n      <th>0</th>\n      <td>0</td>\n      <td>1004285007</td>\n      <td>SIMPLEX OFFICE SOLUTIONS</td>\n      <td>ANAHEIM</td>\n      <td>CA</td>\n      <td>92801</td>\n      <td>CALIFORNIA BANK &amp; TRUST</td>\n      <td>CA</td>\n      <td>532420</td>\n      <td>15074</td>\n      <td>...</td>\n      <td>0</td>\n      <td>30000</td>\n      <td>15000</td>\n      <td>0</td>\n      <td>0</td>\n      <td>0.5</td>\n      <td>0</td>\n      <td>1080</td>\n      <td>16175.0</td>\n      <td>0</td>\n    </tr>\n    <tr>\n      <th>1</th>\n      <td>1</td>\n      <td>1004535010</td>\n      <td>DREAM HOME REALTY</td>\n      <td>TORRANCE</td>\n      <td>CA</td>\n      <td>90505</td>\n      <td>CALIFORNIA BANK &amp; TRUST</td>\n      <td>CA</td>\n      <td>531210</td>\n      <td>15130</td>\n      <td>...</td>\n      <td>0</td>\n      <td>30000</td>\n      <td>15000</td>\n      <td>0</td>\n      <td>0</td>\n      <td>0.5</td>\n      <td>1</td>\n      <td>1680</td>\n      <td>17658.0</td>\n      <td>0</td>\n    </tr>\n    <tr>\n      <th>2</th>\n      <td>0</td>\n      <td>1005005006</td>\n      <td>Winset, Inc. dba Bankers Hill</td>\n      <td>SAN DIEGO</td>\n      <td>CA</td>\n      <td>92103</td>\n      <td>CALIFORNIA BANK &amp; TRUST</td>\n      <td>CA</td>\n      <td>531210</td>\n      <td>15188</td>\n      <td>...</td>\n      <td>0</td>\n      <td>30000</td>\n      <td>15000</td>\n      <td>0</td>\n      <td>0</td>\n      <td>0.5</td>\n      <td>0</td>\n      <td>1080</td>\n      <td>16298.0</td>\n      <td>0</td>\n    </tr>\n    <tr>\n      <th>3</th>\n      <td>1</td>\n      <td>1005535001</td>\n      <td>Shiva Management</td>\n      <td>SAN DIEGO</td>\n      <td>CA</td>\n      <td>92108</td>\n      <td>CALIFORNIA BANK &amp; TRUST</td>\n      <td>CA</td>\n      <td>531312</td>\n      <td>15719</td>\n      <td>...</td>\n      <td>0</td>\n      <td>50000</td>\n      <td>25000</td>\n      <td>0</td>\n      <td>0</td>\n      <td>0.5</td>\n      <td>0</td>\n      <td>1080</td>\n      <td>16816.0</td>\n      <td>0</td>\n    </tr>\n    <tr>\n      <th>4</th>\n      <td>1</td>\n      <td>1005996006</td>\n      <td>GOLD CROWN HOME LOANS, INC</td>\n      <td>LOS ANGELES</td>\n      <td>CA</td>\n      <td>91345</td>\n      <td>SBA - EDF ENFORCEMENT ACTION</td>\n      <td>CO</td>\n      <td>531390</td>\n      <td>16840</td>\n      <td>...</td>\n      <td>0</td>\n      <td>343000</td>\n      <td>343000</td>\n      <td>0</td>\n      <td>1</td>\n      <td>1.0</td>\n      <td>0</td>\n      <td>7200</td>\n      <td>24103.0</td>\n      <td>0</td>\n    </tr>\n  </tbody>\n</table>\n<p>5 rows × 35 columns</p>\n</div>"
     },
     "metadata": {},
     "execution_count": 4
    }
   ],
   "source": [
    "sba.head(5)"
   ]
  },
  {
   "cell_type": "code",
   "execution_count": null,
   "metadata": {},
   "outputs": [],
   "source": []
  }
 ]
}